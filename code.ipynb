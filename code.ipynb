print("Enter any two prime numbers:")
p = int(input())
q = int(input())
n = p*q
phiN = (p-1)*(q-1)
x = phiN
for i in range(1, phiN):
  if i != 1 and i != phiN:
    while x != 0:
      i, x = x, i%q
