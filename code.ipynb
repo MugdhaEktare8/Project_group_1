import cv2
import matplotlib.pyplot as plt
%matplotlib inline
import numpy as np
